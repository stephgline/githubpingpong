{
 "cells": [
  {
   "cell_type": "markdown",
   "metadata": {},
   "source": [
    "# IPython Notebook to solve leet code problems"
   ]
  },
  {
   "cell_type": "markdown",
   "metadata": {},
   "source": [
    "## Problem 290\n",
    "https://leetcode.com/problems/word-pattern/"
   ]
  },
  {
   "cell_type": "markdown",
   "metadata": {},
   "source": [
    "Given a pattern and a string str, find if str follows the same pattern.\n",
    "\n",
    "Here follow means a full match, such that there is a bijection between a letter in pattern and a non-empty word in str."
   ]
  },
  {
   "cell_type": "code",
   "execution_count": 53,
   "metadata": {
    "collapsed": true
   },
   "outputs": [],
   "source": [
    "class Solution(object):\n",
    "    def findpattern(self, words,letters):\n",
    "        \"\"\" Create dict of machting letters positions, indexed by letter\n",
    "        \"\"\"\n",
    "        patterndict = {}\n",
    "        for i in range(len(letters)):\n",
    "            if letters[i] in patterndict:\n",
    "                patterndict[letters[i]].append(i)\n",
    "            else:\n",
    "                patterndict[letters[i]] = [i]\n",
    "        return patterndict\n",
    "\n",
    "    def checkwords(self, patterndict, words, letters):\n",
    "        \"\"\" Check to see if list of words matches the required pattern given by patterndict and letters\n",
    "        \"\"\"\n",
    "        for j in range(len(words)):\n",
    "            for pos in patterndict[letters[j]]:\n",
    "                if words[j] != words[pos]:\n",
    "                    return False\n",
    "            \n",
    "        return True\n",
    "\n",
    "    def wordPattern(self, pattern, str):\n",
    "        \"\"\"\n",
    "        :type pattern: str\n",
    "        :type str: str\n",
    "        :rtype: bool\n",
    "        \"\"\"\n",
    "        words = str.split(' ')\n",
    "        letters =list(pattern)\n",
    "    \n",
    "        patterndict = self.findpattern(words, letters)\n",
    "        return self.checkwords(patterndict, words, letters)\n",
    "    \n",
    "\n"
   ]
  },
  {
   "cell_type": "markdown",
   "metadata": {},
   "source": [
    "### Test Cases"
   ]
  },
  {
   "cell_type": "markdown",
   "metadata": {},
   "source": [
    "No. 1"
   ]
  },
  {
   "cell_type": "code",
   "execution_count": 54,
   "metadata": {
    "collapsed": false
   },
   "outputs": [
    {
     "name": "stdout",
     "output_type": "stream",
     "text": [
      "True\n"
     ]
    }
   ],
   "source": [
    "pattern = \"abba\"\n",
    "str = \"dog cat cat dog\" \n",
    "#should return true.\n",
    "test = Solution()\n",
    "print test.wordPattern(pattern,str)"
   ]
  },
  {
   "cell_type": "markdown",
   "metadata": {},
   "source": [
    "No. 2"
   ]
  },
  {
   "cell_type": "code",
   "execution_count": 55,
   "metadata": {
    "collapsed": false
   },
   "outputs": [
    {
     "name": "stdout",
     "output_type": "stream",
     "text": [
      "False\n"
     ]
    }
   ],
   "source": [
    "pattern = \"abba\"\n",
    "str = \"dog cat cat fish\" \n",
    "#should return false.\n",
    "test = Solution()\n",
    "print test.wordPattern(pattern,str)"
   ]
  },
  {
   "cell_type": "markdown",
   "metadata": {},
   "source": [
    "No. 3"
   ]
  },
  {
   "cell_type": "code",
   "execution_count": 56,
   "metadata": {
    "collapsed": false
   },
   "outputs": [
    {
     "name": "stdout",
     "output_type": "stream",
     "text": [
      "False\n"
     ]
    }
   ],
   "source": [
    "pattern = \"aaaa\"\n",
    "str = \"dog cat cat dog\" \n",
    "#should return false.\n",
    "test = Solution()\n",
    "print test.wordPattern(pattern,str)"
   ]
  },
  {
   "cell_type": "markdown",
   "metadata": {},
   "source": [
    "No. 4"
   ]
  },
  {
   "cell_type": "code",
   "execution_count": 57,
   "metadata": {
    "collapsed": false
   },
   "outputs": [
    {
     "name": "stdout",
     "output_type": "stream",
     "text": [
      "True\n"
     ]
    }
   ],
   "source": [
    "pattern = \"abba\"\n",
    "str = \"dog dog dog dog\" \n",
    "#should return false.\n",
    "test = Solution()\n",
    "print test.wordPattern(pattern,str)"
   ]
  },
  {
   "cell_type": "code",
   "execution_count": null,
   "metadata": {
    "collapsed": true
   },
   "outputs": [],
   "source": []
  },
  {
   "cell_type": "code",
   "execution_count": null,
   "metadata": {
    "collapsed": true
   },
   "outputs": [],
   "source": []
  }
 ],
 "metadata": {
  "kernelspec": {
   "display_name": "Python 2",
   "language": "python",
   "name": "python2"
  },
  "language_info": {
   "codemirror_mode": {
    "name": "ipython",
    "version": 2
   },
   "file_extension": ".py",
   "mimetype": "text/x-python",
   "name": "python",
   "nbconvert_exporter": "python",
   "pygments_lexer": "ipython2",
   "version": "2.7.6"
  }
 },
 "nbformat": 4,
 "nbformat_minor": 0
}
